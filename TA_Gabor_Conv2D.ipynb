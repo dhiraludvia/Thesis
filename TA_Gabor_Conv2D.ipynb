{
  "cells": [
    {
      "cell_type": "markdown",
      "metadata": {
        "id": "7kVO6OHEl4Dm"
      },
      "source": [
        "\"\"\"\n",
        "Simple ConvNet trained on Chest X-Ray using custom GaborConv2D layer.\n",
        "\"\"\""
      ]
    },
    {
      "cell_type": "code",
      "source": [
        "from google.colab import drive\n",
        "drive.mount('/content/drive')"
      ],
      "metadata": {
        "id": "oACwJqUeuqRO",
        "outputId": "f5950e5f-7c81-428a-9224-ed982cea8237",
        "colab": {
          "base_uri": "https://localhost:8080/"
        }
      },
      "execution_count": null,
      "outputs": [
        {
          "output_type": "stream",
          "name": "stdout",
          "text": [
            "Mounted at /content/drive\n"
          ]
        }
      ]
    },
    {
      "cell_type": "code",
      "source": [
        "%cd /content/drive/MyDrive/Colab Notebooks"
      ],
      "metadata": {
        "colab": {
          "base_uri": "https://localhost:8080/"
        },
        "id": "aMiQl1DbyCMq",
        "outputId": "9e86a147-6917-44ed-ac7d-4c9de01c64ce"
      },
      "execution_count": null,
      "outputs": [
        {
          "output_type": "stream",
          "name": "stdout",
          "text": [
            "/content/drive/MyDrive/Colab Notebooks\n"
          ]
        }
      ]
    },
    {
      "cell_type": "code",
      "execution_count": null,
      "metadata": {
        "id": "dj5nTuYPnHJZ"
      },
      "outputs": [],
      "source": [
        "%cd /content/drive/MyDrive/Colab Notebooks ludviadhira"
      ]
    },
    {
      "cell_type": "code",
      "execution_count": null,
      "metadata": {
        "id": "y6KQAUbvl8lo"
      },
      "outputs": [],
      "source": [
        "import os\n",
        "import cv2\n",
        "import numpy as np\n",
        "import tensorflow as tf\n",
        "from tensorflow import keras\n",
        "from tensorflow.keras import models\n",
        "from tensorflow.keras.layers import InputLayer, Conv2D, MaxPool2D, Activation, GlobalMaxPool2D\n",
        "from tensorflow.keras.layers import Dropout, Dense, Flatten, BatchNormalization\n",
        "from tensorflow.keras import backend as K\n",
        "from tensorflow.keras import callbacks\n",
        "from tensorflow.keras.optimizers import Adam, Adamax\n",
        "from keras.preprocessing.image import ImageDataGenerator, load_img\n",
        "from keras.models import Sequential, load_model\n",
        "from sklearn.preprocessing import LabelEncoder\n",
        "\n",
        "# u/ Evaluasi Model\n",
        "import itertools\n",
        "from sklearn import metrics\n",
        "from sklearn.metrics import f1_score, recall_score, accuracy_score\n",
        "from sklearn.metrics import precision_score, confusion_matrix, classification_report\n",
        "from sklearn.metrics import  precision_recall_curve, auc, roc_curve, roc_auc_score\n",
        "\n",
        "from glob import glob\n",
        "#from gabor_conv import GaborConv2D, _gabor_filter\n",
        "#import gabor\n",
        "#from gabor_init import gabor_init"
      ]
    },
    {
      "cell_type": "markdown",
      "metadata": {
        "id": "lfR8mSI3aICw"
      },
      "source": [
        "# Path Directory "
      ]
    },
    {
      "cell_type": "code",
      "execution_count": null,
      "metadata": {
        "id": "lq9NbInYnLpm",
        "colab": {
          "base_uri": "https://localhost:8080/"
        },
        "outputId": "887614b3-93bf-4bed-d7b1-16227ac917c8"
      },
      "outputs": [
        {
          "output_type": "stream",
          "name": "stdout",
          "text": [
            "Number of train images =  320\n",
            "Number of validation images =  80\n",
            "Number of train healthy images =  160\n",
            "Number of train sick images =  160\n",
            "Number of validation healthy images =  40\n",
            "Number of validation sick images =  40\n"
          ]
        }
      ],
      "source": [
        "base_dir = '/content/drive/MyDrive/Colab Notebooks/Dataset Efusi Pleura/'\n",
        "\n",
        "train_dir = os.path.join(base_dir, 'train/')\n",
        "validation_dir = os.path.join(base_dir, 'test/')\n",
        "print('Number of train images = ',str(len(glob(train_dir+'*/*'))))\n",
        "print('Number of validation images = ',str(len(glob(validation_dir+'*/*'))))\n",
        "\n",
        "# Directory with our training healthy/sick pictures\n",
        "train_healthy_dir = os.path.join(train_dir, 'nofinding')\n",
        "train_sick_dir = os.path.join(train_dir, 'effusion')\n",
        "print('Number of train healthy images = ',str(len(glob(train_healthy_dir+'*/*'))))\n",
        "print('Number of train sick images = ',str(len(glob(train_sick_dir+'*/*'))))\n",
        "\n",
        "# Directory with our validation healthy/sick pictures\n",
        "validation_healthy_dir = os.path.join(validation_dir, 'nofinding')\n",
        "validation_sick_dir = os.path.join(validation_dir, 'effusion')\n",
        "print('Number of validation healthy images = ',str(len(glob(validation_healthy_dir+'*/*'))))\n",
        "print('Number of validation sick images = ',str(len(glob(validation_sick_dir+'*/*'))))\n",
        "\n",
        "train_healthy_fnames = os.listdir( train_healthy_dir )\n",
        "train_sick_fnames = os.listdir( train_sick_dir )"
      ]
    },
    {
      "cell_type": "markdown",
      "metadata": {
        "id": "CrgBPS0naeEF"
      },
      "source": [
        "# Path Load Files"
      ]
    },
    {
      "cell_type": "code",
      "execution_count": null,
      "metadata": {
        "colab": {
          "base_uri": "https://localhost:8080/"
        },
        "id": "Hj4knf14Dhxv",
        "outputId": "82f135f8-22fb-4617-c8b0-bc72bb926d84"
      },
      "outputs": [
        {
          "output_type": "stream",
          "name": "stdout",
          "text": [
            "Number of train images =  200\n",
            "Number of test images =  200\n",
            "Number of train healthy images =  100\n",
            "Number of train sick images =  100\n",
            "Number of test healthy images =  100\n",
            "Number of test sick images =  100\n"
          ]
        }
      ],
      "source": [
        "base_dir = '/content/drive/MyDrive/Colab Notebooks/Dataset TT'\n",
        "\n",
        "train_dir = os.path.join(base_dir, 'training/')\n",
        "test_dir = os.path.join(base_dir, 'test/')\n",
        "print('Number of train images = ',str(len(glob(train_dir+'*/*'))))\n",
        "print('Number of test images = ',str(len(glob(test_dir+'*/*'))))\n",
        "\n",
        "# Directory with our training healthy/sick pictures\n",
        "train_healthy = os.listdir(train_dir + 'nofinding')\n",
        "train_sick = os.listdir(train_dir + 'effusion')\n",
        "print('Number of train healthy images = ', len(train_healthy))\n",
        "print('Number of train sick images = ', len(train_sick))\n",
        "\n",
        "# Directory with our validation healthy/sick pictures\n",
        "test_healthy = os.listdir(test_dir+ 'nofinding')\n",
        "test_sick = os.listdir(test_dir+ 'effusion')\n",
        "print('Number of test healthy images = ',len(test_healthy))\n",
        "print('Number of test sick images = ',len(test_sick))\n",
        "\n",
        "#train_healthy_fnames = os.listdir( train_healthy_dir )\n",
        "#train_sick_fnames = os.listdir( train_sick_dir )"
      ]
    },
    {
      "cell_type": "markdown",
      "metadata": {
        "id": "gZgnecjpbSgg"
      },
      "source": [
        "# Input shape "
      ]
    },
    {
      "cell_type": "code",
      "execution_count": null,
      "metadata": {
        "id": "LqF9mAXPnhyl"
      },
      "outputs": [],
      "source": [
        "img_height, img_width  = 128, 128\n",
        "\n",
        "\n",
        "if K.image_data_format() == 'channels_first':\n",
        "    input_shape = (1, img_width, img_height)\n",
        "else:\n",
        "    input_shape = (img_width, img_height, 1)"
      ]
    },
    {
      "cell_type": "markdown",
      "metadata": {
        "id": "22yrjtnObfmI"
      },
      "source": [
        "# **PREPROCESSING**"
      ]
    },
    {
      "cell_type": "markdown",
      "metadata": {
        "id": "qn7nclqKb2sd"
      },
      "source": [
        "# [2.1] Gathering Data , Resizing image\n",
        "Melakukan gathering data dengan membentuk data train, data test dan data validation yang berisi gambar dan label serta melakukan resizing image menjadi ukuran 128x128 untuk menyeragamkan ukuran gambar."
      ]
    },
    {
      "cell_type": "code",
      "execution_count": null,
      "metadata": {
        "colab": {
          "base_uri": "https://localhost:8080/"
        },
        "id": "88Ib7EBfbdpw",
        "outputId": "74abda6c-9369-4ec4-bfe1-df770e9608fe"
      },
      "outputs": [
        {
          "output_type": "stream",
          "name": "stdout",
          "text": [
            "Berhasil Create Training Data\n",
            "Berhasil Create Testing Data\n"
          ]
        }
      ],
      "source": [
        "# Mendeklarasikan ukuran gambar\n",
        "img_size = (128,128)\n",
        "# Mendeklarasikan kategori gambar\n",
        "categories = ['effusion', 'nofinding']\n",
        "\n",
        "training_data = []\n",
        "testing_data = []\n",
        "\n",
        "def create_training_data():\n",
        "    for category in categories:\n",
        "        path = os.path.join(train_dir,category)\n",
        "        class_num = categories.index(category)\n",
        "        for img in os.listdir(path):\n",
        "            try:\n",
        "                img_array = cv2.imread(os.path.join(path,img))\n",
        "                new_array = cv2.resize(img_array,(330,330)) \n",
        "                crop = new_array[150:278,25:153]\n",
        "                training_data.append([crop,class_num])\n",
        "            except Exception as e:\n",
        "                pass\n",
        "\n",
        "def create_testing_data():\n",
        "    for category in categories:\n",
        "        path = os.path.join(test_dir,category)\n",
        "        class_num = categories.index(category)\n",
        "        for img in os.listdir(path):\n",
        "            try:\n",
        "                img_array = cv2.imread(os.path.join(path,img))\n",
        "                new_array = cv2.resize(img_array,(330,330)) \n",
        "                crop = new_array[150:278,25:153]\n",
        "                testing_data.append([crop,class_num])\n",
        "            except Exception as e:\n",
        "                pass\n",
        "\n",
        "\n",
        "create_training_data()\n",
        "print(\"Berhasil Create Training Data\")\n",
        "create_testing_data()\n",
        "print(\"Berhasil Create Testing Data\")"
      ]
    },
    {
      "cell_type": "markdown",
      "metadata": {
        "id": "JBj-ubJffRt8"
      },
      "source": [
        "# [2.2] Normalisasi dan Labeling Data\n",
        "Melakukan Normalisasi data dimana setiap pixel yang memiliki range 0-255 akan dinormalisasikan menjadi range 0-1 dan labeling data"
      ]
    },
    {
      "cell_type": "code",
      "execution_count": null,
      "metadata": {
        "colab": {
          "base_uri": "https://localhost:8080/"
        },
        "id": "GSOlRhzHfIMW",
        "outputId": "9f383d91-2c96-449a-814f-1fc3b867e3ec"
      },
      "outputs": [
        {
          "output_type": "stream",
          "name": "stdout",
          "text": [
            "Train Data =  (200, 128, 128, 3)\n",
            "Train Label =  (200,)\n",
            "Test Data =  (200, 128, 128, 3)\n",
            "Test Label =  (200,)\n"
          ]
        }
      ],
      "source": [
        "# Melakukan pengambilan features/gambar dan label dari masing\" kelas\n",
        "\n",
        "X_train = []\n",
        "Y_train = []\n",
        "for features,label in training_data:\n",
        "    X_train.append(features)\n",
        "    Y_train.append(label)\n",
        "X_train = np.array(X_train).reshape(-1,128,128)\n",
        "X_train = X_train.astype('float32')/255.0  # normalize train data\n",
        "X_train = X_train.reshape(-1,128,128,3)    # reshape dataset to feed it into model properly\n",
        "Y_train = np.array(Y_train)\n",
        "print(\"Train Data = \", X_train.shape)\n",
        "print(\"Train Label = \", Y_train.shape)\n",
        "\n",
        "X_test = []\n",
        "Y_test = []\n",
        "for features,label in testing_data:\n",
        "    X_test.append(features)\n",
        "    Y_test.append(label)\n",
        "X_test = np.array(X_test).reshape(-1,128,128)\n",
        "X_test = X_test.astype('float32')/255.0  # normalize test data\n",
        "X_test = X_test.reshape(-1,128,128,3)    # reshape dataset to feed it into model properly\n",
        "Y_test = np.array(Y_test)\n",
        "print(\"Test Data = \", X_test.shape)\n",
        "print(\"Test Label = \", Y_test.shape)"
      ]
    },
    {
      "cell_type": "markdown",
      "metadata": {
        "id": "Funrn2p0jyMQ"
      },
      "source": [
        "Labeling Data menggunakan label encoder untuk Y_train/val/test"
      ]
    },
    {
      "cell_type": "code",
      "execution_count": null,
      "metadata": {
        "id": "sWP-57a6j2lE"
      },
      "outputs": [],
      "source": [
        "lb = LabelEncoder()\n",
        "\n",
        "Y_train = lb.fit_transform(Y_train)\n",
        "Y_test = lb.fit_transform(Y_test)"
      ]
    },
    {
      "cell_type": "markdown",
      "metadata": {
        "id": "Zs7-38_6kTFk"
      },
      "source": [
        "# **AUGMENTASI DATA**\n",
        "Implementasi Augmentasi Data menggunakan library Keras bernama ImageDataGenerator"
      ]
    },
    {
      "cell_type": "code",
      "execution_count": null,
      "metadata": {
        "id": "aw-49oXFktWO"
      },
      "outputs": [],
      "source": [
        "datagen = ImageDataGenerator(\n",
        "        rotation_range = 30,\n",
        "        zoom_range = 0.2,\n",
        "        shear_range=0.2,\n",
        "        width_shift_range=0.2,\n",
        "        height_shift_range=0.2,\n",
        "        horizontal_flip=False,  \n",
        "        #vertical_flip=False,\n",
        "        fill_mode='nearest')  "
      ]
    },
    {
      "cell_type": "markdown",
      "metadata": {
        "id": "uJZtJc53lHj-"
      },
      "source": [
        "# **FILTER GABOR**"
      ]
    },
    {
      "cell_type": "markdown",
      "metadata": {
        "id": "XzjNiqV9lVYn"
      },
      "source": [
        "Membentuk fungsi grayscale untuk mengubah gambar menjadi warna grayscale"
      ]
    },
    {
      "cell_type": "code",
      "execution_count": null,
      "metadata": {
        "id": "K-kO9ogflWxZ"
      },
      "outputs": [],
      "source": [
        "def grayscale(data, dtype='float32'):\n",
        "    r, g, b = np.asarray(.3, dtype=dtype), np.asarray(.59, dtype=dtype), np.asarray(.11, dtype=dtype)\n",
        "    rst = r * data[:, :, :, 0] + g * data[:, :, :, 1] + b * data[:, :, :, 2]\n",
        "    return rst"
      ]
    },
    {
      "cell_type": "markdown",
      "metadata": {
        "id": "__QFrueFlpi3"
      },
      "source": [
        "Membentuk fungsi add_dimension untuk mengubah urutan matrix"
      ]
    },
    {
      "cell_type": "code",
      "execution_count": null,
      "metadata": {
        "id": "lBhqXcihlqVI"
      },
      "outputs": [],
      "source": [
        "def add_dimension(data):\n",
        "    data = np.array([data])\n",
        "    print(data.shape)\n",
        "    data = np.einsum('hijk->ijkh', data)   #re arange the dimension\n",
        "    return data"
      ]
    },
    {
      "cell_type": "markdown",
      "metadata": {
        "id": "dPGJmlNtl_EK"
      },
      "source": [
        "Implementasi filter gabor dengan membuat fungsi bernama custom gabor yang menerapkan Garborkernel dari library Open CV"
      ]
    },
    {
      "cell_type": "code",
      "execution_count": null,
      "metadata": {
        "id": "rANezFkTl_uD"
      },
      "outputs": [],
      "source": [
        "def custom_gabor(shape, dtype=None):\n",
        "    pi = np.pi\n",
        "    orientation_spread = np.array([0, pi/6, pi/3, pi/2, pi*2/3, pi*5/6, pi, pi*7/6])\n",
        "    scales = np.linspace(2, 4, 2)\n",
        "    real_kernels = []\n",
        "    img_kernels = []\n",
        "    for orientation in orientation_spread:\n",
        "        for scale in scales:\n",
        "            real_kernel = cv2.getGaborKernel((3, 3), 1, orientation, scale, 1, 0)\n",
        "            imaginary_kernel = cv2.getGaborKernel((3, 3), 1, orientation, scale, 1, np.pi / 2)\n",
        "            real_kernels.append(real_kernel)\n",
        "            img_kernels.append(imaginary_kernel)\n",
        "    stacked_list = np.vstack((real_kernels, img_kernels))\n",
        "    stacked_list = np.array([stacked_list])\n",
        "    stacked_list = np.einsum('hijk->jkhi', stacked_list)\n",
        "    print(stacked_list.shape)\n",
        "\n",
        "    stacked_list = K.variable(stacked_list)\n",
        "    random = K.random_normal(shape, dtype=dtype)\n",
        "    return stacked_list"
      ]
    },
    {
      "cell_type": "markdown",
      "metadata": {
        "id": "3iCcljWMmn-5"
      },
      "source": [
        "Melakukan penerapan filter gabor pada data train test dan validation sehingga data akan berubah menjadi 1 channel warna"
      ]
    },
    {
      "cell_type": "code",
      "execution_count": null,
      "metadata": {
        "colab": {
          "base_uri": "https://localhost:8080/"
        },
        "id": "ZtI2sc4Gmr0n",
        "outputId": "820dd8f2-abde-4cf5-973a-d599d25481b4"
      },
      "outputs": [
        {
          "output_type": "stream",
          "name": "stdout",
          "text": [
            "(1, 200, 128, 128)\n",
            "(1, 200, 128, 128)\n"
          ]
        }
      ],
      "source": [
        "X_train_gabor = add_dimension(grayscale(X_train))\n",
        "X_test_gabor = add_dimension(grayscale(X_test))\n",
        "Y_train_gabor = Y_train\n",
        "Y_test_gabor = Y_test"
      ]
    },
    {
      "cell_type": "markdown",
      "metadata": {
        "id": "_L_7TquYm_rK"
      },
      "source": [
        "# **PENGUJIAN MODEL**"
      ]
    },
    {
      "cell_type": "markdown",
      "metadata": {
        "id": "_piohb6jnD24"
      },
      "source": [
        "# Rancangan Model\n",
        "\n",
        "APL Dropout : 0.05, Dropout : 0.25, Dense : 128"
      ]
    },
    {
      "cell_type": "code",
      "execution_count": null,
      "metadata": {
        "id": "oEDuEbvNnHuJ",
        "colab": {
          "base_uri": "https://localhost:8080/"
        },
        "outputId": "15774d03-d136-405f-8be3-9e6a5bf0b9d6"
      },
      "outputs": [
        {
          "output_type": "stream",
          "name": "stdout",
          "text": [
            "(3, 3, 1, 32)\n"
          ]
        }
      ],
      "source": [
        "#input_shape=[128,128,1]\n",
        "\n",
        "model = Sequential()\n",
        "\n",
        "model.add(InputLayer(input_shape=[128,128,1]))\n",
        "\n",
        "model.add(Conv2D(filters=32, kernel_size=3, padding='same', kernel_initializer=custom_gabor, data_format='channels_last', strides=1, activation='relu'))\n",
        "model.add(BatchNormalization())\n",
        "model.add(MaxPool2D(pool_size=2, padding='same'))\n",
        "model.add(Dropout(0.05))\n",
        "\n",
        "model.add(Conv2D(filters=64, kernel_size=3, strides=1, padding='same', activation='relu'))\n",
        "model.add(BatchNormalization())\n",
        "model.add(MaxPool2D(pool_size=2, padding='same'))\n",
        "model.add(Dropout(0.05))\n",
        "'''\n",
        "model.add(Conv2D(filters=64, kernel_size=3, strides=1, padding='same', activation='relu'))\n",
        "model.add(BatchNormalization())\n",
        "model.add(MaxPool2D(pool_size=3, padding='same'))\n",
        "model.add(Dropout(0.05))\n",
        "\n",
        "model.add(Conv2D(filters=128, kernel_size=3, strides=1, padding='same', activation='relu'))\n",
        "model.add(BatchNormalization())\n",
        "model.add(MaxPool2D(pool_size=3, padding='same'))\n",
        "model.add(Dropout(0.05))\n",
        "'''\n",
        "model.add(Conv2D(filters=128, kernel_size=3, strides=1, padding='same', activation='relu'))\n",
        "model.add(BatchNormalization())\n",
        "model.add(MaxPool2D(pool_size=2, padding='same'))\n",
        "model.add(Dropout(0.05))\n",
        "\n",
        "#model.add(Conv2D(filters=256, kernel_size=3, strides=1, padding='same', activation='relu'))\n",
        "#model.add(BatchNormalization())\n",
        "#model.add(MaxPool2D(pool_size=3, padding='same'))\n",
        "#model.add(Dropout(0.05))\n",
        "\n",
        "#model.add(Conv2D(filters=256, kernel_size=3, strides=1, padding='same', activation='relu'))\n",
        "#model.add(BatchNormalization())\n",
        "#model.add(MaxPool2D(pool_size=3, padding='same'))\n",
        "#model.add(Dropout(0.05))\n",
        "\n",
        "model.add(GlobalMaxPool2D())\n",
        "model.add(Dropout(0.25))\n",
        "model.add(Flatten())\n",
        "\n",
        "model.add(Dense(64, activation='relu'))\n",
        "model.add(Dense(1, activation='sigmoid'))\n",
        "\n",
        "#model.summary()"
      ]
    },
    {
      "cell_type": "code",
      "source": [
        "model = tf.keras.models.Sequential([\n",
        "    tf.keras.layers.Conv2D(32, (3,3), activation='relu', kernel_initializer=custom_gabor, input_shape=(128, 128, 1)),\n",
        "    tf.keras.layers.MaxPooling2D(2,2), \n",
        "    tf.keras.layers.Conv2D(64, (3,3), activation='relu'),\n",
        "    tf.keras.layers.MaxPooling2D(2,2),\n",
        "    tf.keras.layers.Conv2D(128, (3,3), activation='relu'),\n",
        "    tf.keras.layers.MaxPooling2D(2,2),\n",
        "    tf.keras.layers.Flatten(), \n",
        "    tf.keras.layers.Dense(64, activation='relu'), \n",
        "    tf.keras.layers.Dropout(0.3),\n",
        "    tf.keras.layers.Dense(1, activation='sigmoid') \n",
        "])\n",
        "#model.summary()"
      ],
      "metadata": {
        "colab": {
          "base_uri": "https://localhost:8080/"
        },
        "id": "t8gI5BlXa8C9",
        "outputId": "f09fdabb-230c-4643-c06d-32f2278baeaa"
      },
      "execution_count": null,
      "outputs": [
        {
          "output_type": "stream",
          "name": "stdout",
          "text": [
            "(3, 3, 1, 32)\n"
          ]
        }
      ]
    },
    {
      "cell_type": "code",
      "execution_count": null,
      "metadata": {
        "id": "d6u-iGUXbsUb"
      },
      "outputs": [],
      "source": [
        "#Plot Diagram CNN\n",
        "from tensorflow.keras.utils import plot_model\n",
        "plot_model(model,show_shapes=True, show_layer_names=True, rankdir='TB', expand_nested=True)"
      ]
    },
    {
      "cell_type": "markdown",
      "metadata": {
        "id": "9GBNcOgXsqsi"
      },
      "source": [
        "Skenario model menggunakan Optimizer Adam dengan learning rate 0.00146 dan loss binary crossentropy"
      ]
    },
    {
      "cell_type": "code",
      "execution_count": null,
      "metadata": {
        "id": "9pUm6DOar7d_"
      },
      "outputs": [],
      "source": [
        "#from tensorflow.keras.optimizers import RMSprop\n",
        "model.compile(optimizer=Adamax(learning_rate=0.00146, decay=1e-5),\n",
        "              #optimizer=RMSprop(learning_rate=0.0001), \n",
        "              ##optimizer=keras.optimizers.SGD(lr=0.01),\n",
        "              loss='binary_crossentropy', \n",
        "              metrics=['accuracy'])"
      ]
    },
    {
      "cell_type": "markdown",
      "metadata": {
        "id": "8dQUy3RLuVCq"
      },
      "source": [
        "# Implementasi Callback berupa Learning rate Scheduler"
      ]
    },
    {
      "cell_type": "code",
      "execution_count": null,
      "metadata": {
        "id": "HGt08XspuN_J"
      },
      "outputs": [],
      "source": [
        "#filepath=\"/content/drive/MyDrive/[Trial] Simponia/Model_Skenario3.h5\"\n",
        "\n",
        "checkpoint = callbacks.ModelCheckpoint(\n",
        "                                       filepath,\n",
        "                                       monitor='val_accuracy',\n",
        "                                       verbose=1,\n",
        "                                       save_best_only=True,\n",
        "                                       mode='auto',\n",
        "                                       )\n",
        "\n",
        "def scheduler(epoch, lr):\n",
        "  if epoch < 5:\n",
        "    return lr\n",
        "  else:\n",
        "    return lr * tf.math.exp(-0.1)\n",
        "\n",
        "lr_schedule = tf.keras.callbacks.LearningRateScheduler(scheduler, verbose=1)"
      ]
    },
    {
      "cell_type": "code",
      "execution_count": null,
      "metadata": {
        "id": "5Rq_5ev4L4XH"
      },
      "outputs": [],
      "source": [
        "# Define the callbacks\n",
        "\n",
        "early_stopping_cb = tf.keras.callbacks.EarlyStopping(patience=10, restore_best_weights=True)"
      ]
    },
    {
      "cell_type": "markdown",
      "metadata": {
        "id": "so0xWHwLvjs_"
      },
      "source": [
        "# Training Model"
      ]
    },
    {
      "cell_type": "code",
      "execution_count": null,
      "metadata": {
        "colab": {
          "base_uri": "https://localhost:8080/"
        },
        "id": "6Tx_UdTisPIW",
        "outputId": "8d741088-092a-437f-c0fd-10cb5760879b"
      },
      "outputs": [
        {
          "output_type": "stream",
          "name": "stdout",
          "text": [
            "Epoch 1/200\n",
            "6/6 [==============================] - 11s 2s/step - loss: 10.7846 - accuracy: 0.4881 - val_loss: 0.6965 - val_accuracy: 0.5000\n",
            "Epoch 2/200\n",
            "6/6 [==============================] - 9s 2s/step - loss: 7.4182 - accuracy: 0.4702 - val_loss: 0.7100 - val_accuracy: 0.5000\n",
            "Epoch 3/200\n",
            "6/6 [==============================] - 9s 2s/step - loss: 4.6387 - accuracy: 0.5119 - val_loss: 0.7300 - val_accuracy: 0.5000\n",
            "Epoch 4/200\n",
            "6/6 [==============================] - 9s 2s/step - loss: 4.8013 - accuracy: 0.5238 - val_loss: 0.7335 - val_accuracy: 0.5000\n",
            "Epoch 5/200\n",
            "6/6 [==============================] - 9s 2s/step - loss: 4.9929 - accuracy: 0.5000 - val_loss: 0.7433 - val_accuracy: 0.5000\n",
            "Epoch 6/200\n",
            "6/6 [==============================] - 12s 2s/step - loss: 4.2139 - accuracy: 0.5179 - val_loss: 0.7416 - val_accuracy: 0.5000\n",
            "Epoch 7/200\n",
            "6/6 [==============================] - 9s 2s/step - loss: 4.6826 - accuracy: 0.4702 - val_loss: 0.7409 - val_accuracy: 0.5000\n",
            "Epoch 8/200\n",
            "6/6 [==============================] - 9s 2s/step - loss: 4.2791 - accuracy: 0.5476 - val_loss: 0.7330 - val_accuracy: 0.4950\n",
            "Epoch 9/200\n",
            "6/6 [==============================] - 10s 2s/step - loss: 4.2300 - accuracy: 0.5469 - val_loss: 0.7238 - val_accuracy: 0.4900\n",
            "Epoch 10/200\n",
            "6/6 [==============================] - 9s 2s/step - loss: 4.4526 - accuracy: 0.4345 - val_loss: 0.7145 - val_accuracy: 0.4850\n",
            "Epoch 11/200\n",
            "6/6 [==============================] - 9s 2s/step - loss: 3.8353 - accuracy: 0.5417 - val_loss: 0.7089 - val_accuracy: 0.4950\n",
            "Epoch 12/200\n",
            "6/6 [==============================] - 10s 2s/step - loss: 3.4127 - accuracy: 0.6094 - val_loss: 0.7042 - val_accuracy: 0.4950\n",
            "Epoch 13/200\n",
            "6/6 [==============================] - 9s 2s/step - loss: 3.2272 - accuracy: 0.5476 - val_loss: 0.7024 - val_accuracy: 0.5150\n",
            "Epoch 14/200\n",
            "6/6 [==============================] - 9s 2s/step - loss: 3.7736 - accuracy: 0.5417 - val_loss: 0.7026 - val_accuracy: 0.4750\n",
            "Epoch 15/200\n",
            "6/6 [==============================] - 11s 2s/step - loss: 3.6591 - accuracy: 0.5298 - val_loss: 0.6982 - val_accuracy: 0.4950\n",
            "Epoch 16/200\n",
            "6/6 [==============================] - 9s 2s/step - loss: 3.7156 - accuracy: 0.5179 - val_loss: 0.6970 - val_accuracy: 0.5200\n",
            "Epoch 17/200\n",
            "6/6 [==============================] - 9s 2s/step - loss: 3.2533 - accuracy: 0.5595 - val_loss: 0.6918 - val_accuracy: 0.4900\n",
            "Epoch 18/200\n",
            "6/6 [==============================] - 9s 2s/step - loss: 3.2438 - accuracy: 0.5417 - val_loss: 0.6898 - val_accuracy: 0.4950\n",
            "Epoch 19/200\n",
            "6/6 [==============================] - 9s 2s/step - loss: 2.6850 - accuracy: 0.5714 - val_loss: 0.6890 - val_accuracy: 0.5800\n",
            "Epoch 20/200\n",
            "6/6 [==============================] - 9s 2s/step - loss: 3.4945 - accuracy: 0.5000 - val_loss: 0.6940 - val_accuracy: 0.4950\n",
            "Epoch 21/200\n",
            "6/6 [==============================] - 9s 2s/step - loss: 3.1841 - accuracy: 0.5655 - val_loss: 0.7004 - val_accuracy: 0.4650\n",
            "Epoch 22/200\n",
            "6/6 [==============================] - 9s 2s/step - loss: 2.5312 - accuracy: 0.6190 - val_loss: 0.7034 - val_accuracy: 0.4600\n",
            "Epoch 23/200\n",
            "6/6 [==============================] - 9s 2s/step - loss: 2.6770 - accuracy: 0.5774 - val_loss: 0.7069 - val_accuracy: 0.3900\n",
            "Epoch 24/200\n",
            "6/6 [==============================] - 9s 2s/step - loss: 3.8241 - accuracy: 0.4464 - val_loss: 0.7112 - val_accuracy: 0.3750\n",
            "Epoch 25/200\n",
            "6/6 [==============================] - 9s 2s/step - loss: 2.6903 - accuracy: 0.5655 - val_loss: 0.7131 - val_accuracy: 0.3550\n",
            "Epoch 26/200\n",
            "6/6 [==============================] - 11s 2s/step - loss: 3.0863 - accuracy: 0.5476 - val_loss: 0.7114 - val_accuracy: 0.3700\n",
            "Epoch 27/200\n",
            "6/6 [==============================] - 10s 2s/step - loss: 3.0300 - accuracy: 0.4844 - val_loss: 0.7090 - val_accuracy: 0.3750\n",
            "Epoch 28/200\n",
            "6/6 [==============================] - 9s 2s/step - loss: 3.0809 - accuracy: 0.5238 - val_loss: 0.7104 - val_accuracy: 0.3900\n",
            "Epoch 29/200\n",
            "6/6 [==============================] - 10s 2s/step - loss: 2.8368 - accuracy: 0.5833 - val_loss: 0.7109 - val_accuracy: 0.3950\n",
            "Epoch 30/200\n",
            "6/6 [==============================] - 9s 2s/step - loss: 2.7689 - accuracy: 0.5536 - val_loss: 0.7083 - val_accuracy: 0.4200\n",
            "Epoch 31/200\n",
            "6/6 [==============================] - 9s 2s/step - loss: 2.4411 - accuracy: 0.5952 - val_loss: 0.7077 - val_accuracy: 0.4350\n",
            "Epoch 32/200\n",
            "6/6 [==============================] - 10s 2s/step - loss: 3.1184 - accuracy: 0.5208 - val_loss: 0.7051 - val_accuracy: 0.4700\n",
            "Epoch 33/200\n",
            "6/6 [==============================] - 9s 2s/step - loss: 2.8373 - accuracy: 0.5179 - val_loss: 0.7037 - val_accuracy: 0.4850\n",
            "Epoch 34/200\n",
            "6/6 [==============================] - 11s 2s/step - loss: 2.9875 - accuracy: 0.4821 - val_loss: 0.6997 - val_accuracy: 0.4900\n",
            "Epoch 35/200\n",
            "6/6 [==============================] - 9s 2s/step - loss: 2.4839 - accuracy: 0.5595 - val_loss: 0.6970 - val_accuracy: 0.5100\n",
            "Epoch 36/200\n",
            "6/6 [==============================] - 9s 2s/step - loss: 3.0124 - accuracy: 0.5357 - val_loss: 0.6948 - val_accuracy: 0.5300\n",
            "Epoch 37/200\n",
            "6/6 [==============================] - 9s 2s/step - loss: 2.8303 - accuracy: 0.5952 - val_loss: 0.6955 - val_accuracy: 0.5300\n",
            "Epoch 38/200\n",
            "6/6 [==============================] - 9s 2s/step - loss: 2.7394 - accuracy: 0.5238 - val_loss: 0.6990 - val_accuracy: 0.5150\n",
            "Epoch 39/200\n",
            "6/6 [==============================] - 9s 2s/step - loss: 2.6213 - accuracy: 0.5952 - val_loss: 0.7002 - val_accuracy: 0.5100\n",
            "Epoch 40/200\n",
            "6/6 [==============================] - 10s 2s/step - loss: 2.5561 - accuracy: 0.5833 - val_loss: 0.6990 - val_accuracy: 0.4900\n",
            "Epoch 41/200\n",
            "6/6 [==============================] - 9s 2s/step - loss: 2.4956 - accuracy: 0.5833 - val_loss: 0.6955 - val_accuracy: 0.5050\n",
            "Epoch 42/200\n",
            "6/6 [==============================] - 9s 2s/step - loss: 2.7794 - accuracy: 0.5179 - val_loss: 0.6878 - val_accuracy: 0.5400\n",
            "Epoch 43/200\n",
            "6/6 [==============================] - 10s 2s/step - loss: 2.2721 - accuracy: 0.5625 - val_loss: 0.6797 - val_accuracy: 0.5450\n",
            "Epoch 44/200\n",
            "6/6 [==============================] - 9s 2s/step - loss: 2.4340 - accuracy: 0.5774 - val_loss: 0.6734 - val_accuracy: 0.5950\n",
            "Epoch 45/200\n",
            "6/6 [==============================] - 9s 2s/step - loss: 2.6039 - accuracy: 0.5298 - val_loss: 0.6669 - val_accuracy: 0.6250\n",
            "Epoch 46/200\n",
            "6/6 [==============================] - 9s 2s/step - loss: 2.6629 - accuracy: 0.5476 - val_loss: 0.6659 - val_accuracy: 0.6350\n",
            "Epoch 47/200\n",
            "6/6 [==============================] - 10s 2s/step - loss: 2.4930 - accuracy: 0.5729 - val_loss: 0.6696 - val_accuracy: 0.5650\n",
            "Epoch 48/200\n",
            "6/6 [==============================] - 9s 2s/step - loss: 2.3808 - accuracy: 0.5536 - val_loss: 0.6700 - val_accuracy: 0.5850\n",
            "Epoch 49/200\n",
            "6/6 [==============================] - 9s 2s/step - loss: 2.5997 - accuracy: 0.5714 - val_loss: 0.6696 - val_accuracy: 0.5900\n",
            "Epoch 50/200\n",
            "6/6 [==============================] - 9s 2s/step - loss: 2.3518 - accuracy: 0.6012 - val_loss: 0.6664 - val_accuracy: 0.6100\n",
            "Epoch 51/200\n",
            "6/6 [==============================] - 9s 2s/step - loss: 2.1347 - accuracy: 0.6012 - val_loss: 0.6677 - val_accuracy: 0.5700\n",
            "Epoch 52/200\n",
            "6/6 [==============================] - 9s 2s/step - loss: 2.4046 - accuracy: 0.5595 - val_loss: 0.6566 - val_accuracy: 0.6150\n",
            "Epoch 53/200\n",
            "6/6 [==============================] - 11s 2s/step - loss: 2.0194 - accuracy: 0.6369 - val_loss: 0.6550 - val_accuracy: 0.6300\n",
            "Epoch 54/200\n",
            "6/6 [==============================] - 9s 2s/step - loss: 2.3386 - accuracy: 0.6012 - val_loss: 0.6564 - val_accuracy: 0.6350\n",
            "Epoch 55/200\n",
            "6/6 [==============================] - 9s 2s/step - loss: 2.3455 - accuracy: 0.5714 - val_loss: 0.6474 - val_accuracy: 0.6550\n",
            "Epoch 56/200\n",
            "6/6 [==============================] - 9s 2s/step - loss: 2.4116 - accuracy: 0.6071 - val_loss: 0.6542 - val_accuracy: 0.6200\n",
            "Epoch 57/200\n",
            "6/6 [==============================] - 10s 2s/step - loss: 2.4694 - accuracy: 0.5469 - val_loss: 0.6615 - val_accuracy: 0.5950\n",
            "Epoch 58/200\n",
            "6/6 [==============================] - 9s 2s/step - loss: 2.5735 - accuracy: 0.5774 - val_loss: 0.6618 - val_accuracy: 0.6000\n",
            "Epoch 59/200\n",
            "6/6 [==============================] - 9s 2s/step - loss: 2.4346 - accuracy: 0.5952 - val_loss: 0.6585 - val_accuracy: 0.6150\n",
            "Epoch 60/200\n",
            "6/6 [==============================] - 9s 2s/step - loss: 2.1242 - accuracy: 0.6369 - val_loss: 0.6596 - val_accuracy: 0.6050\n",
            "Epoch 61/200\n",
            "6/6 [==============================] - 9s 2s/step - loss: 2.2757 - accuracy: 0.6071 - val_loss: 0.6639 - val_accuracy: 0.5800\n",
            "Epoch 62/200\n",
            "6/6 [==============================] - 10s 2s/step - loss: 2.4556 - accuracy: 0.5573 - val_loss: 0.6720 - val_accuracy: 0.5600\n",
            "Epoch 63/200\n",
            "6/6 [==============================] - 10s 2s/step - loss: 2.2967 - accuracy: 0.5833 - val_loss: 0.6656 - val_accuracy: 0.5750\n",
            "Epoch 64/200\n",
            "6/6 [==============================] - 9s 2s/step - loss: 2.0984 - accuracy: 0.6071 - val_loss: 0.6597 - val_accuracy: 0.6100\n",
            "Epoch 65/200\n",
            "6/6 [==============================] - 9s 2s/step - loss: 2.2287 - accuracy: 0.6429 - val_loss: 0.6536 - val_accuracy: 0.6200\n",
            "Epoch 66/200\n",
            "6/6 [==============================] - 10s 2s/step - loss: 2.5424 - accuracy: 0.5938 - val_loss: 0.6769 - val_accuracy: 0.5750\n",
            "Epoch 67/200\n",
            "6/6 [==============================] - 9s 2s/step - loss: 2.2652 - accuracy: 0.5655 - val_loss: 0.6932 - val_accuracy: 0.5500\n",
            "Epoch 68/200\n",
            "6/6 [==============================] - 9s 2s/step - loss: 2.4972 - accuracy: 0.5476 - val_loss: 0.6863 - val_accuracy: 0.5750\n",
            "Epoch 69/200\n",
            "6/6 [==============================] - 9s 2s/step - loss: 2.2474 - accuracy: 0.6250 - val_loss: 0.6815 - val_accuracy: 0.5800\n",
            "Epoch 70/200\n",
            "6/6 [==============================] - 12s 2s/step - loss: 2.4068 - accuracy: 0.6071 - val_loss: 0.6824 - val_accuracy: 0.5700\n",
            "Epoch 71/200\n",
            "6/6 [==============================] - 9s 2s/step - loss: 2.3597 - accuracy: 0.5774 - val_loss: 0.6726 - val_accuracy: 0.5900\n",
            "Epoch 72/200\n",
            "6/6 [==============================] - 9s 2s/step - loss: 2.2246 - accuracy: 0.6131 - val_loss: 0.6652 - val_accuracy: 0.6000\n",
            "Epoch 73/200\n",
            "6/6 [==============================] - 12s 2s/step - loss: 2.2202 - accuracy: 0.6146 - val_loss: 0.6864 - val_accuracy: 0.5650\n",
            "Epoch 74/200\n",
            "6/6 [==============================] - 9s 2s/step - loss: 2.0202 - accuracy: 0.6131 - val_loss: 0.7167 - val_accuracy: 0.5150\n",
            "Epoch 75/200\n",
            "6/6 [==============================] - 9s 2s/step - loss: 2.3145 - accuracy: 0.6131 - val_loss: 0.7287 - val_accuracy: 0.5150\n",
            "Epoch 76/200\n",
            "6/6 [==============================] - 10s 2s/step - loss: 2.5282 - accuracy: 0.5179 - val_loss: 0.7197 - val_accuracy: 0.5200\n",
            "Epoch 77/200\n",
            "6/6 [==============================] - 9s 2s/step - loss: 1.9889 - accuracy: 0.6190 - val_loss: 0.7183 - val_accuracy: 0.5350\n",
            "Epoch 78/200\n",
            "6/6 [==============================] - 9s 2s/step - loss: 2.5299 - accuracy: 0.5833 - val_loss: 0.7274 - val_accuracy: 0.5100\n",
            "Epoch 79/200\n",
            "6/6 [==============================] - 9s 2s/step - loss: 2.2910 - accuracy: 0.6012 - val_loss: 0.7558 - val_accuracy: 0.5100\n",
            "Epoch 80/200\n",
            "6/6 [==============================] - 9s 2s/step - loss: 2.4198 - accuracy: 0.5417 - val_loss: 0.7219 - val_accuracy: 0.5150\n",
            "Epoch 81/200\n",
            "6/6 [==============================] - 9s 2s/step - loss: 2.0959 - accuracy: 0.6786 - val_loss: 0.6928 - val_accuracy: 0.5650\n",
            "Epoch 82/200\n",
            "6/6 [==============================] - 9s 2s/step - loss: 2.2505 - accuracy: 0.6310 - val_loss: 0.7199 - val_accuracy: 0.5100\n",
            "Epoch 83/200\n",
            "6/6 [==============================] - 11s 2s/step - loss: 2.3615 - accuracy: 0.5595 - val_loss: 0.7425 - val_accuracy: 0.5200\n",
            "Epoch 84/200\n",
            "6/6 [==============================] - 9s 2s/step - loss: 2.3006 - accuracy: 0.5595 - val_loss: 0.7181 - val_accuracy: 0.5200\n",
            "Epoch 85/200\n",
            "6/6 [==============================] - 9s 2s/step - loss: 2.0034 - accuracy: 0.6369 - val_loss: 0.6983 - val_accuracy: 0.5650\n",
            "Epoch 86/200\n",
            "6/6 [==============================] - 9s 2s/step - loss: 2.2677 - accuracy: 0.6131 - val_loss: 0.6986 - val_accuracy: 0.5650\n",
            "Epoch 87/200\n",
            "6/6 [==============================] - 10s 2s/step - loss: 2.3703 - accuracy: 0.5885 - val_loss: 0.7237 - val_accuracy: 0.5250\n",
            "Epoch 88/200\n",
            "6/6 [==============================] - 9s 2s/step - loss: 2.4462 - accuracy: 0.5833 - val_loss: 0.7197 - val_accuracy: 0.5250\n",
            "Epoch 89/200\n",
            "6/6 [==============================] - 9s 2s/step - loss: 2.0782 - accuracy: 0.5952 - val_loss: 0.6890 - val_accuracy: 0.5850\n",
            "Epoch 90/200\n",
            "6/6 [==============================] - 9s 2s/step - loss: 2.0753 - accuracy: 0.6131 - val_loss: 0.7178 - val_accuracy: 0.5350\n",
            "Epoch 91/200\n",
            "6/6 [==============================] - 10s 2s/step - loss: 2.3437 - accuracy: 0.5417 - val_loss: 0.7105 - val_accuracy: 0.5450\n",
            "Epoch 92/200\n",
            "6/6 [==============================] - 11s 2s/step - loss: 2.2515 - accuracy: 0.5893 - val_loss: 0.6667 - val_accuracy: 0.6250\n",
            "Epoch 93/200\n",
            "6/6 [==============================] - 9s 2s/step - loss: 2.1840 - accuracy: 0.6310 - val_loss: 0.6767 - val_accuracy: 0.6050\n",
            "Epoch 94/200\n",
            "6/6 [==============================] - 9s 2s/step - loss: 1.9867 - accuracy: 0.6310 - val_loss: 0.7315 - val_accuracy: 0.5300\n",
            "Epoch 95/200\n",
            "6/6 [==============================] - 9s 2s/step - loss: 2.2996 - accuracy: 0.6310 - val_loss: 0.7420 - val_accuracy: 0.5250\n",
            "Epoch 96/200\n",
            "6/6 [==============================] - 9s 2s/step - loss: 2.0675 - accuracy: 0.6131 - val_loss: 0.7283 - val_accuracy: 0.5250\n",
            "Epoch 97/200\n",
            "6/6 [==============================] - 10s 2s/step - loss: 2.1870 - accuracy: 0.6198 - val_loss: 0.7174 - val_accuracy: 0.5600\n",
            "Epoch 98/200\n",
            "6/6 [==============================] - 9s 2s/step - loss: 2.3102 - accuracy: 0.5952 - val_loss: 0.7336 - val_accuracy: 0.5350\n",
            "Epoch 99/200\n",
            "6/6 [==============================] - 10s 2s/step - loss: 2.2198 - accuracy: 0.6042 - val_loss: 0.7344 - val_accuracy: 0.5300\n",
            "Epoch 100/200\n",
            "6/6 [==============================] - 9s 2s/step - loss: 2.0787 - accuracy: 0.6071 - val_loss: 0.7093 - val_accuracy: 0.5700\n",
            "Epoch 101/200\n",
            "6/6 [==============================] - 10s 2s/step - loss: 2.2734 - accuracy: 0.6310 - val_loss: 0.6964 - val_accuracy: 0.5900\n",
            "Epoch 102/200\n",
            "6/6 [==============================] - 9s 2s/step - loss: 2.2047 - accuracy: 0.5595 - val_loss: 0.7299 - val_accuracy: 0.5400\n",
            "Epoch 103/200\n",
            "6/6 [==============================] - 9s 2s/step - loss: 2.3013 - accuracy: 0.5893 - val_loss: 0.7253 - val_accuracy: 0.5550\n",
            "Epoch 104/200\n",
            "6/6 [==============================] - 9s 2s/step - loss: 2.0346 - accuracy: 0.6131 - val_loss: 0.7043 - val_accuracy: 0.5800\n",
            "Epoch 105/200\n",
            "6/6 [==============================] - 9s 2s/step - loss: 2.2190 - accuracy: 0.5893 - val_loss: 0.7022 - val_accuracy: 0.5800\n",
            "Epoch 106/200\n",
            "6/6 [==============================] - 9s 2s/step - loss: 2.0155 - accuracy: 0.6310 - val_loss: 0.7252 - val_accuracy: 0.5650\n",
            "Epoch 107/200\n",
            "6/6 [==============================] - 9s 2s/step - loss: 2.2191 - accuracy: 0.5893 - val_loss: 0.7206 - val_accuracy: 0.5800\n",
            "Epoch 108/200\n",
            "6/6 [==============================] - 9s 2s/step - loss: 1.8784 - accuracy: 0.6548 - val_loss: 0.7125 - val_accuracy: 0.5850\n",
            "Epoch 109/200\n",
            "6/6 [==============================] - 9s 2s/step - loss: 2.0680 - accuracy: 0.6369 - val_loss: 0.7333 - val_accuracy: 0.5750\n",
            "Epoch 110/200\n",
            "6/6 [==============================] - 9s 2s/step - loss: 1.9941 - accuracy: 0.6190 - val_loss: 0.7089 - val_accuracy: 0.6050\n",
            "Epoch 111/200\n",
            "6/6 [==============================] - 11s 2s/step - loss: 2.1589 - accuracy: 0.5714 - val_loss: 0.6823 - val_accuracy: 0.6300\n",
            "Epoch 112/200\n",
            "6/6 [==============================] - 10s 2s/step - loss: 2.2333 - accuracy: 0.6094 - val_loss: 0.7081 - val_accuracy: 0.6050\n",
            "Epoch 113/200\n",
            "6/6 [==============================] - 9s 2s/step - loss: 2.0242 - accuracy: 0.6012 - val_loss: 0.7463 - val_accuracy: 0.5650\n",
            "Epoch 114/200\n",
            "6/6 [==============================] - 9s 2s/step - loss: 2.1074 - accuracy: 0.6071 - val_loss: 0.6931 - val_accuracy: 0.6300\n",
            "Epoch 115/200\n",
            "6/6 [==============================] - 9s 2s/step - loss: 1.9843 - accuracy: 0.6726 - val_loss: 0.6473 - val_accuracy: 0.6600\n",
            "Epoch 116/200\n",
            "6/6 [==============================] - 9s 2s/step - loss: 2.2460 - accuracy: 0.5952 - val_loss: 0.6744 - val_accuracy: 0.6450\n",
            "Epoch 117/200\n",
            "6/6 [==============================] - 9s 2s/step - loss: 1.9500 - accuracy: 0.6131 - val_loss: 0.7449 - val_accuracy: 0.5900\n",
            "Epoch 118/200\n",
            "6/6 [==============================] - 9s 2s/step - loss: 2.1681 - accuracy: 0.5655 - val_loss: 0.7492 - val_accuracy: 0.5950\n",
            "Epoch 119/200\n",
            "6/6 [==============================] - 9s 2s/step - loss: 2.3384 - accuracy: 0.6012 - val_loss: 0.7447 - val_accuracy: 0.6000\n",
            "Epoch 120/200\n",
            "6/6 [==============================] - 10s 2s/step - loss: 1.8407 - accuracy: 0.7024 - val_loss: 0.7166 - val_accuracy: 0.6200\n",
            "Epoch 121/200\n",
            "6/6 [==============================] - 9s 2s/step - loss: 2.1430 - accuracy: 0.7083 - val_loss: 0.7588 - val_accuracy: 0.6100\n",
            "Epoch 122/200\n",
            "6/6 [==============================] - 9s 2s/step - loss: 2.1287 - accuracy: 0.6190 - val_loss: 0.7621 - val_accuracy: 0.6200\n",
            "Epoch 123/200\n",
            "6/6 [==============================] - 9s 2s/step - loss: 2.1104 - accuracy: 0.6131 - val_loss: 0.6832 - val_accuracy: 0.6350\n",
            "Epoch 124/200\n",
            "6/6 [==============================] - 9s 2s/step - loss: 1.9638 - accuracy: 0.6786 - val_loss: 0.6566 - val_accuracy: 0.6600\n",
            "Epoch 125/200\n",
            "6/6 [==============================] - 9s 2s/step - loss: 2.1449 - accuracy: 0.6310 - val_loss: 0.6562 - val_accuracy: 0.6600\n",
            "Epoch 126/200\n",
            "6/6 [==============================] - 9s 2s/step - loss: 1.9077 - accuracy: 0.6905 - val_loss: 0.6869 - val_accuracy: 0.6300\n",
            "Epoch 127/200\n",
            "6/6 [==============================] - 9s 2s/step - loss: 2.3040 - accuracy: 0.5595 - val_loss: 0.6767 - val_accuracy: 0.6600\n",
            "Epoch 128/200\n",
            "6/6 [==============================] - 9s 2s/step - loss: 2.0449 - accuracy: 0.6488 - val_loss: 0.6756 - val_accuracy: 0.6650\n",
            "Epoch 129/200\n",
            "6/6 [==============================] - 9s 2s/step - loss: 1.7949 - accuracy: 0.6905 - val_loss: 0.7369 - val_accuracy: 0.6200\n",
            "Epoch 130/200\n",
            "6/6 [==============================] - 10s 2s/step - loss: 2.0629 - accuracy: 0.6012 - val_loss: 0.7280 - val_accuracy: 0.6300\n",
            "Epoch 131/200\n",
            "6/6 [==============================] - 10s 2s/step - loss: 2.1184 - accuracy: 0.6607 - val_loss: 0.7282 - val_accuracy: 0.6350\n",
            "Epoch 132/200\n",
            "6/6 [==============================] - 9s 2s/step - loss: 2.0419 - accuracy: 0.6429 - val_loss: 0.7593 - val_accuracy: 0.6050\n",
            "Epoch 133/200\n",
            "6/6 [==============================] - 9s 2s/step - loss: 2.1277 - accuracy: 0.6310 - val_loss: 0.7543 - val_accuracy: 0.6150\n",
            "Epoch 134/200\n",
            "6/6 [==============================] - 9s 2s/step - loss: 2.0591 - accuracy: 0.6250 - val_loss: 0.7249 - val_accuracy: 0.6400\n",
            "Epoch 135/200\n",
            "6/6 [==============================] - 10s 2s/step - loss: 2.1742 - accuracy: 0.6071 - val_loss: 0.7088 - val_accuracy: 0.6450\n",
            "Epoch 136/200\n",
            "6/6 [==============================] - 9s 2s/step - loss: 2.0250 - accuracy: 0.6488 - val_loss: 0.7096 - val_accuracy: 0.6500\n",
            "Epoch 137/200\n",
            "6/6 [==============================] - 9s 2s/step - loss: 2.2315 - accuracy: 0.6429 - val_loss: 0.6794 - val_accuracy: 0.6550\n",
            "Epoch 138/200\n",
            "6/6 [==============================] - 9s 2s/step - loss: 1.9164 - accuracy: 0.6905 - val_loss: 0.7204 - val_accuracy: 0.6550\n",
            "Epoch 139/200\n",
            "6/6 [==============================] - 9s 2s/step - loss: 2.1681 - accuracy: 0.5952 - val_loss: 0.7584 - val_accuracy: 0.6000\n",
            "Epoch 140/200\n",
            "6/6 [==============================] - 9s 2s/step - loss: 2.1790 - accuracy: 0.5714 - val_loss: 0.7883 - val_accuracy: 0.5850\n",
            "Epoch 141/200\n",
            "6/6 [==============================] - 10s 2s/step - loss: 2.2356 - accuracy: 0.5952 - val_loss: 0.6900 - val_accuracy: 0.6450\n",
            "Epoch 142/200\n",
            "6/6 [==============================] - 11s 2s/step - loss: 2.4180 - accuracy: 0.6488 - val_loss: 0.6986 - val_accuracy: 0.6550\n",
            "Epoch 143/200\n",
            "6/6 [==============================] - 10s 2s/step - loss: 1.8909 - accuracy: 0.6607 - val_loss: 0.7849 - val_accuracy: 0.5800\n",
            "Epoch 144/200\n",
            "6/6 [==============================] - 10s 2s/step - loss: 2.0134 - accuracy: 0.6071 - val_loss: 0.7277 - val_accuracy: 0.6200\n",
            "Epoch 145/200\n",
            "6/6 [==============================] - 10s 2s/step - loss: 1.8908 - accuracy: 0.6607 - val_loss: 0.6669 - val_accuracy: 0.6500\n",
            "Epoch 146/200\n",
            "6/6 [==============================] - 10s 2s/step - loss: 1.9966 - accuracy: 0.7202 - val_loss: 0.7151 - val_accuracy: 0.6400\n",
            "Epoch 147/200\n",
            "6/6 [==============================] - 10s 2s/step - loss: 1.9794 - accuracy: 0.6302 - val_loss: 0.7868 - val_accuracy: 0.5850\n",
            "Epoch 148/200\n",
            "6/6 [==============================] - 9s 2s/step - loss: 1.9045 - accuracy: 0.6250 - val_loss: 0.7590 - val_accuracy: 0.6200\n",
            "Epoch 149/200\n",
            "6/6 [==============================] - 10s 2s/step - loss: 1.9901 - accuracy: 0.6250 - val_loss: 0.7172 - val_accuracy: 0.6500\n",
            "Epoch 150/200\n",
            "6/6 [==============================] - 10s 2s/step - loss: 2.0566 - accuracy: 0.6667 - val_loss: 0.8078 - val_accuracy: 0.6000\n",
            "Epoch 151/200\n",
            "6/6 [==============================] - 12s 2s/step - loss: 2.0145 - accuracy: 0.6354 - val_loss: 0.7434 - val_accuracy: 0.6300\n",
            "Epoch 152/200\n",
            "6/6 [==============================] - 9s 2s/step - loss: 2.1919 - accuracy: 0.6250 - val_loss: 0.7480 - val_accuracy: 0.6150\n",
            "Epoch 153/200\n",
            "6/6 [==============================] - 9s 2s/step - loss: 2.2723 - accuracy: 0.5655 - val_loss: 0.7601 - val_accuracy: 0.6050\n",
            "Epoch 154/200\n",
            "6/6 [==============================] - 11s 2s/step - loss: 1.9979 - accuracy: 0.6250 - val_loss: 0.7413 - val_accuracy: 0.6200\n",
            "Epoch 155/200\n",
            "6/6 [==============================] - 10s 2s/step - loss: 1.8515 - accuracy: 0.6667 - val_loss: 0.7118 - val_accuracy: 0.6400\n",
            "Epoch 156/200\n",
            "6/6 [==============================] - 10s 2s/step - loss: 2.1245 - accuracy: 0.6429 - val_loss: 0.7506 - val_accuracy: 0.6250\n",
            "Epoch 157/200\n",
            "6/6 [==============================] - 10s 2s/step - loss: 2.2380 - accuracy: 0.5774 - val_loss: 0.7362 - val_accuracy: 0.6350\n",
            "Epoch 158/200\n",
            "6/6 [==============================] - 10s 2s/step - loss: 1.9092 - accuracy: 0.6310 - val_loss: 0.7174 - val_accuracy: 0.6400\n",
            "Epoch 159/200\n",
            "6/6 [==============================] - 10s 2s/step - loss: 1.9697 - accuracy: 0.6726 - val_loss: 0.7347 - val_accuracy: 0.6350\n",
            "Epoch 160/200\n",
            "6/6 [==============================] - 9s 2s/step - loss: 1.7222 - accuracy: 0.6905 - val_loss: 0.7173 - val_accuracy: 0.6400\n",
            "Epoch 161/200\n",
            "6/6 [==============================] - 10s 2s/step - loss: 2.3703 - accuracy: 0.6190 - val_loss: 0.7439 - val_accuracy: 0.6200\n",
            "Epoch 162/200\n",
            "6/6 [==============================] - 10s 2s/step - loss: 1.9230 - accuracy: 0.6310 - val_loss: 0.7758 - val_accuracy: 0.6300\n",
            "Epoch 163/200\n",
            "6/6 [==============================] - 9s 2s/step - loss: 2.2490 - accuracy: 0.6131 - val_loss: 0.7115 - val_accuracy: 0.6500\n",
            "Epoch 164/200\n",
            "6/6 [==============================] - 9s 2s/step - loss: 2.1940 - accuracy: 0.6667 - val_loss: 0.6733 - val_accuracy: 0.6950\n",
            "Epoch 165/200\n",
            "6/6 [==============================] - 9s 2s/step - loss: 1.9334 - accuracy: 0.6905 - val_loss: 0.7168 - val_accuracy: 0.6450\n",
            "Epoch 166/200\n",
            "6/6 [==============================] - 9s 2s/step - loss: 1.8315 - accuracy: 0.6429 - val_loss: 0.6995 - val_accuracy: 0.6500\n",
            "Epoch 167/200\n",
            "6/6 [==============================] - 9s 2s/step - loss: 1.9577 - accuracy: 0.6488 - val_loss: 0.6596 - val_accuracy: 0.6950\n",
            "Epoch 168/200\n",
            "6/6 [==============================] - 9s 2s/step - loss: 1.9810 - accuracy: 0.6964 - val_loss: 0.6887 - val_accuracy: 0.6400\n",
            "Epoch 169/200\n",
            "6/6 [==============================] - 9s 2s/step - loss: 2.0560 - accuracy: 0.6190 - val_loss: 0.7486 - val_accuracy: 0.6150\n",
            "Epoch 170/200\n",
            "6/6 [==============================] - 11s 2s/step - loss: 1.9951 - accuracy: 0.5677 - val_loss: 0.7274 - val_accuracy: 0.6500\n",
            "Epoch 171/200\n",
            "6/6 [==============================] - 9s 2s/step - loss: 2.0800 - accuracy: 0.6071 - val_loss: 0.7134 - val_accuracy: 0.6500\n",
            "Epoch 172/200\n",
            "6/6 [==============================] - 10s 2s/step - loss: 2.0437 - accuracy: 0.6429 - val_loss: 0.7413 - val_accuracy: 0.6350\n",
            "Epoch 173/200\n",
            "6/6 [==============================] - 11s 2s/step - loss: 1.9411 - accuracy: 0.6094 - val_loss: 0.7026 - val_accuracy: 0.6600\n",
            "Epoch 174/200\n",
            "6/6 [==============================] - 9s 2s/step - loss: 1.9379 - accuracy: 0.6190 - val_loss: 0.6786 - val_accuracy: 0.6550\n",
            "Epoch 175/200\n",
            "6/6 [==============================] - 9s 2s/step - loss: 1.8129 - accuracy: 0.6607 - val_loss: 0.7133 - val_accuracy: 0.6500\n",
            "Epoch 176/200\n",
            "6/6 [==============================] - 9s 2s/step - loss: 1.9713 - accuracy: 0.6310 - val_loss: 0.6764 - val_accuracy: 0.6600\n",
            "Epoch 177/200\n",
            "6/6 [==============================] - 9s 2s/step - loss: 1.9416 - accuracy: 0.6667 - val_loss: 0.6726 - val_accuracy: 0.6600\n",
            "Epoch 178/200\n",
            "6/6 [==============================] - 9s 2s/step - loss: 1.8538 - accuracy: 0.6548 - val_loss: 0.7399 - val_accuracy: 0.6200\n",
            "Epoch 179/200\n",
            "6/6 [==============================] - 9s 2s/step - loss: 2.0592 - accuracy: 0.6310 - val_loss: 0.7291 - val_accuracy: 0.6350\n",
            "Epoch 180/200\n",
            "6/6 [==============================] - 10s 2s/step - loss: 1.7769 - accuracy: 0.6406 - val_loss: 0.6713 - val_accuracy: 0.6600\n",
            "Epoch 181/200\n",
            "6/6 [==============================] - 9s 2s/step - loss: 1.8212 - accuracy: 0.7024 - val_loss: 0.6713 - val_accuracy: 0.6550\n",
            "Epoch 182/200\n",
            "6/6 [==============================] - 11s 2s/step - loss: 1.9651 - accuracy: 0.6548 - val_loss: 0.6903 - val_accuracy: 0.6500\n",
            "Epoch 183/200\n",
            "6/6 [==============================] - 9s 2s/step - loss: 2.0808 - accuracy: 0.6369 - val_loss: 0.7009 - val_accuracy: 0.6550\n",
            "Epoch 184/200\n",
            "6/6 [==============================] - 10s 2s/step - loss: 1.9715 - accuracy: 0.5990 - val_loss: 0.6747 - val_accuracy: 0.6550\n",
            "Epoch 185/200\n",
            "6/6 [==============================] - 10s 2s/step - loss: 1.8360 - accuracy: 0.6615 - val_loss: 0.6466 - val_accuracy: 0.6800\n",
            "Epoch 186/200\n",
            "6/6 [==============================] - 10s 2s/step - loss: 2.1409 - accuracy: 0.6250 - val_loss: 0.6550 - val_accuracy: 0.6700\n",
            "Epoch 187/200\n",
            "6/6 [==============================] - 10s 2s/step - loss: 1.9376 - accuracy: 0.6667 - val_loss: 0.6601 - val_accuracy: 0.6700\n",
            "Epoch 188/200\n",
            "6/6 [==============================] - 9s 2s/step - loss: 1.8055 - accuracy: 0.6548 - val_loss: 0.6754 - val_accuracy: 0.6700\n",
            "Epoch 189/200\n",
            "6/6 [==============================] - 9s 2s/step - loss: 1.8852 - accuracy: 0.6667 - val_loss: 0.6430 - val_accuracy: 0.6850\n",
            "Epoch 190/200\n",
            "6/6 [==============================] - 9s 2s/step - loss: 1.8652 - accuracy: 0.6786 - val_loss: 0.6544 - val_accuracy: 0.6750\n",
            "Epoch 191/200\n",
            "6/6 [==============================] - 11s 2s/step - loss: 2.0060 - accuracy: 0.6310 - val_loss: 0.6636 - val_accuracy: 0.6550\n",
            "Epoch 192/200\n",
            "6/6 [==============================] - 9s 2s/step - loss: 1.6726 - accuracy: 0.7202 - val_loss: 0.6607 - val_accuracy: 0.6750\n",
            "Epoch 193/200\n",
            "6/6 [==============================] - 9s 2s/step - loss: 1.9394 - accuracy: 0.6488 - val_loss: 0.6915 - val_accuracy: 0.6650\n",
            "Epoch 194/200\n",
            "6/6 [==============================] - 9s 2s/step - loss: 1.8190 - accuracy: 0.6310 - val_loss: 0.6992 - val_accuracy: 0.6500\n",
            "Epoch 195/200\n",
            "6/6 [==============================] - 9s 2s/step - loss: 1.9633 - accuracy: 0.6607 - val_loss: 0.6679 - val_accuracy: 0.6650\n",
            "Epoch 196/200\n",
            "6/6 [==============================] - 9s 2s/step - loss: 2.0586 - accuracy: 0.6310 - val_loss: 0.6912 - val_accuracy: 0.6600\n",
            "Epoch 197/200\n",
            "6/6 [==============================] - 9s 2s/step - loss: 1.6953 - accuracy: 0.6726 - val_loss: 0.6761 - val_accuracy: 0.6650\n",
            "Epoch 198/200\n",
            "6/6 [==============================] - 10s 2s/step - loss: 1.8791 - accuracy: 0.6719 - val_loss: 0.6645 - val_accuracy: 0.6750\n",
            "Epoch 199/200\n",
            "6/6 [==============================] - 9s 2s/step - loss: 1.9036 - accuracy: 0.6607 - val_loss: 0.6825 - val_accuracy: 0.6650\n",
            "Epoch 200/200\n",
            "6/6 [==============================] - 11s 2s/step - loss: 1.8516 - accuracy: 0.6726 - val_loss: 0.6781 - val_accuracy: 0.6700\n"
          ]
        }
      ],
      "source": [
        "import time\n",
        "session_num = 0\n",
        "batch_size=32\n",
        "\n",
        "start = time.time()\n",
        "datagen.fit(X_train_gabor)\n",
        "history = model.fit(datagen.flow(X_train_gabor,Y_train_gabor, batch_size=batch_size),\n",
        "                              epochs = 200, validation_data = (X_test_gabor,Y_test_gabor),\n",
        "                              steps_per_epoch = X_train_gabor.shape[0] // batch_size,\n",
        "                              class_weight={0:6.1, 1:2.1}, \n",
        "                              verbose=1),\n",
        "                              #callbacks=[early_stopping_cb])\n",
        "                              #callbacks=[lr_schedule,checkpoint])\n",
        "stop = time.time()"
      ]
    },
    {
      "cell_type": "markdown",
      "metadata": {
        "id": "SfC1LeuxuCtw"
      },
      "source": [
        "Save Model"
      ]
    },
    {
      "cell_type": "code",
      "execution_count": null,
      "metadata": {
        "id": "99u9eMdeuA-J"
      },
      "outputs": [],
      "source": [
        "from keras.models import load_model\n",
        "model.save('model_1.h5')\n",
        "model_1 = load_model('model_1.h5')"
      ]
    },
    {
      "cell_type": "markdown",
      "metadata": {
        "id": "TCCjBAGFwAg7"
      },
      "source": [
        "# Visualisasi Model"
      ]
    },
    {
      "cell_type": "code",
      "execution_count": null,
      "metadata": {
        "colab": {
          "base_uri": "https://localhost:8080/",
          "height": 246
        },
        "id": "PhBouZTBws5O",
        "outputId": "2b921bf0-b24b-491a-f100-140795add449"
      },
      "outputs": [
        {
          "output_type": "error",
          "ename": "AttributeError",
          "evalue": "ignored",
          "traceback": [
            "\u001b[0;31m---------------------------------------------------------------------------\u001b[0m",
            "\u001b[0;31mAttributeError\u001b[0m                            Traceback (most recent call last)",
            "\u001b[0;32m<ipython-input-18-e7a7a163cf7b>\u001b[0m in \u001b[0;36m<module>\u001b[0;34m()\u001b[0m\n\u001b[0;32m----> 1\u001b[0;31m \u001b[0macc\u001b[0m \u001b[0;34m=\u001b[0m \u001b[0mhistory\u001b[0m\u001b[0;34m.\u001b[0m\u001b[0mhistory\u001b[0m\u001b[0;34m[\u001b[0m\u001b[0;34m\"accuracy\"\u001b[0m\u001b[0;34m]\u001b[0m\u001b[0;34m\u001b[0m\u001b[0;34m\u001b[0m\u001b[0m\n\u001b[0m\u001b[1;32m      2\u001b[0m \u001b[0mval_acc\u001b[0m \u001b[0;34m=\u001b[0m \u001b[0mhistory\u001b[0m\u001b[0;34m.\u001b[0m\u001b[0mhistory\u001b[0m\u001b[0;34m[\u001b[0m\u001b[0;34m\"val_accuracy\"\u001b[0m\u001b[0;34m]\u001b[0m\u001b[0;34m\u001b[0m\u001b[0;34m\u001b[0m\u001b[0m\n\u001b[1;32m      3\u001b[0m \u001b[0mloss\u001b[0m \u001b[0;34m=\u001b[0m \u001b[0mhistory\u001b[0m\u001b[0;34m.\u001b[0m\u001b[0mhistory\u001b[0m\u001b[0;34m[\u001b[0m\u001b[0;34m\"loss\"\u001b[0m\u001b[0;34m]\u001b[0m\u001b[0;34m\u001b[0m\u001b[0;34m\u001b[0m\u001b[0m\n\u001b[1;32m      4\u001b[0m \u001b[0mval_loss\u001b[0m \u001b[0;34m=\u001b[0m \u001b[0mhistory\u001b[0m\u001b[0;34m.\u001b[0m\u001b[0mhistory\u001b[0m\u001b[0;34m[\u001b[0m\u001b[0;34m\"val_loss\"\u001b[0m\u001b[0;34m]\u001b[0m\u001b[0;34m\u001b[0m\u001b[0;34m\u001b[0m\u001b[0m\n\u001b[1;32m      5\u001b[0m \u001b[0;34m\u001b[0m\u001b[0m\n",
            "\u001b[0;31mAttributeError\u001b[0m: 'tuple' object has no attribute 'history'"
          ]
        }
      ],
      "source": [
        "acc = history.history[\"accuracy\"]\n",
        "val_acc = history.history[\"val_accuracy\"]\n",
        "loss = history.history[\"loss\"]\n",
        "val_loss = history.history[\"val_loss\"]\n",
        "\n",
        "epochs = range(len(acc))\n",
        "\n",
        "fig, (ax1, ax2) = plt.subplots(1, 2, figsize=[20, 5])\n",
        "ax1.plot(epochs, acc, 'k')\n",
        "ax1.plot(epochs, val_acc, 'c')\n",
        "ax1.set_title('Accuracy | Skenario 3')\n",
        "ax1.legend(['Model accuracy','Model Val accuracy'])\n",
        "\n",
        "ax2.plot(epochs, loss, 'k')\n",
        "ax2.plot(epochs, val_loss, 'c')\n",
        "ax2.set_title('Loss | Skenario 3')\n",
        "ax2.legend(['Model loss','Model Val loss'])\n",
        "\n",
        "plt.show()"
      ]
    },
    {
      "cell_type": "markdown",
      "metadata": {
        "id": "WTCZ5uv9w1XS"
      },
      "source": [
        "# Evaluasi Model"
      ]
    },
    {
      "cell_type": "markdown",
      "metadata": {
        "id": "orxVBXanw4Ho"
      },
      "source": [
        "Evaluasi Data Train"
      ]
    },
    {
      "cell_type": "code",
      "execution_count": null,
      "metadata": {
        "colab": {
          "base_uri": "https://localhost:8080/"
        },
        "id": "D0bXtycnw_4s",
        "outputId": "1e9df160-60ab-4084-c005-0ef4d28b4c97"
      },
      "outputs": [
        {
          "output_type": "stream",
          "name": "stdout",
          "text": [
            "7/7 [==============================] - 2s 269ms/step - loss: 0.4174 - accuracy: 0.8550\n",
            "Training Loss 0.41743\n",
            "Training Accuracy 85.50%\n"
          ]
        }
      ],
      "source": [
        "loss, acc = model.evaluate(X_train_gabor,Y_train_gabor,verbose = 1)\n",
        "print(\"Training Loss {:.5f}\".format(loss))\n",
        "print(\"Training Accuracy {:.2f}%\".format(acc*100))"
      ]
    },
    {
      "cell_type": "markdown",
      "metadata": {
        "id": "wWJ6VTnLw-Hi"
      },
      "source": [
        "Evaluasi Data Test"
      ]
    },
    {
      "cell_type": "code",
      "execution_count": null,
      "metadata": {
        "colab": {
          "base_uri": "https://localhost:8080/"
        },
        "id": "ScZTpyphx-Hi",
        "outputId": "c9e5639d-3b08-4d01-9589-d32336478341"
      },
      "outputs": [
        {
          "output_type": "stream",
          "name": "stdout",
          "text": [
            "7/7 [==============================] - 3s 490ms/step - loss: 0.6781 - accuracy: 0.6700\n",
            "Test Loss 0.67815\n",
            "Test Accuracy 67.00%\n"
          ]
        }
      ],
      "source": [
        "loss, acc = model.evaluate(X_test_gabor,Y_test_gabor,verbose = 1)\n",
        "print(\"Test Loss {:.5f}\".format(loss))\n",
        "print(\"Test Accuracy {:.2f}%\".format(acc*100))"
      ]
    },
    {
      "cell_type": "markdown",
      "metadata": {
        "id": "kZx9BcA5x9M_"
      },
      "source": [
        "Classification Report"
      ]
    },
    {
      "cell_type": "code",
      "execution_count": null,
      "metadata": {
        "id": "zbt4WjyvyTj_",
        "colab": {
          "base_uri": "https://localhost:8080/"
        },
        "outputId": "5881f721-bfa4-45da-e02e-5219a81cc075"
      },
      "outputs": [
        {
          "output_type": "stream",
          "name": "stdout",
          "text": [
            "Skenario Model\n",
            "              precision    recall  f1-score   support\n",
            "\n",
            "    effusion       0.76      0.88      0.81        40\n",
            "   nofinding       0.85      0.72      0.78        40\n",
            "\n",
            "    accuracy                           0.80        80\n",
            "   macro avg       0.81      0.80      0.80        80\n",
            "weighted avg       0.81      0.80      0.80        80\n",
            "\n"
          ]
        },
        {
          "output_type": "stream",
          "name": "stderr",
          "text": [
            "/usr/local/lib/python3.7/dist-packages/ipykernel_launcher.py:3: DeprecationWarning: `np.int` is a deprecated alias for the builtin `int`. To silence this warning, use `int` by itself. Doing this will not modify any behavior and is safe. When replacing `np.int`, you may wish to use e.g. `np.int64` or `np.int32` to specify the precision. If you wish to review your current use, check the release note link for additional information.\n",
            "Deprecated in NumPy 1.20; for more details and guidance: https://numpy.org/devdocs/release/1.20.0-notes.html#deprecations\n",
            "  This is separate from the ipykernel package so we can avoid doing imports until\n"
          ]
        }
      ],
      "source": [
        "print(\"Skenario Model\")\n",
        "pred = model.predict(X_test_gabor)\n",
        "labels = (pred > 0.5).astype(np.int)\n",
        "\n",
        "print(classification_report(Y_test_gabor, labels, target_names = categories))"
      ]
    },
    {
      "cell_type": "markdown",
      "source": [
        "# **ROC Curve**"
      ],
      "metadata": {
        "id": "jAA3Ao9TG0QF"
      }
    },
    {
      "cell_type": "code",
      "source": [
        "import matplotlib.pyplot as plt\n",
        "\n",
        "pred_val = model.predict(X_test_gabor)\n",
        "fpr, tpr, _ = roc_curve(Y_test_gabor, pred_val)\n",
        "roc_auc = auc(fpr, tpr)\n",
        "\n",
        "plt.figure()\n",
        "lw = 2\n",
        "plt.plot(fpr, tpr, color='#ffba93',\n",
        "         lw=lw, label='ROC curve (area = %0.3f)' % roc_auc)\n",
        "plt.plot([0, 1], [0, 1], color='#7579e7', lw=lw, linestyle='--')\n",
        "plt.xlim([0.0, 1.0])\n",
        "plt.ylim([0.0, 1.05])\n",
        "plt.xlabel('False Positive Rate')\n",
        "plt.ylabel('True Positive Rate')\n",
        "plt.title('ROC Curve Skenario Model 3')\n",
        "plt.legend(loc=\"lower right\")\n",
        "plt.show()"
      ],
      "metadata": {
        "colab": {
          "base_uri": "https://localhost:8080/",
          "height": 295
        },
        "id": "RXknrH8sG3k-",
        "outputId": "4429cfd7-59dd-46fb-b1b3-71d7bffae233"
      },
      "execution_count": null,
      "outputs": [
        {
          "output_type": "display_data",
          "data": {
            "text/plain": [
              "<Figure size 432x288 with 1 Axes>"
            ],
            "image/png": "[encoded data removed]"
          },
          "metadata": {
            "needs_background": "light"
          }
        }
      ]
    },
    {
      "cell_type": "code",
      "source": [
        "auc_score = roc_auc_score(Y_test_gabor, pred_val)\n",
        "fpr, tpr, th = roc_curve(Y_test_gabor, pred_val)\n",
        "print('AUC Score Skenario Model 3 = ', round(auc_score, 3))"
      ],
      "metadata": {
        "colab": {
          "base_uri": "https://localhost:8080/"
        },
        "id": "qgEA6pyAG9o3",
        "outputId": "8dfa9f6c-2476-47cb-e2f3-bc2bf754fbe2"
      },
      "execution_count": null,
      "outputs": [
        {
          "output_type": "stream",
          "name": "stdout",
          "text": [
            "AUC Score Skenario Model 3 =  0.597\n"
          ]
        }
      ]
    },
    {
      "cell_type": "markdown",
      "metadata": {
        "id": "mqb1e10RyrZY"
      },
      "source": [
        "# **PREDIKSI DATA**"
      ]
    },
    {
      "cell_type": "code",
      "execution_count": null,
      "metadata": {
        "id": "d9nONiwqywS0"
      },
      "outputs": [],
      "source": [
        "def predict_image(filename):\n",
        "    img = load_img(filename, target_size=(128, 128))\n",
        "    image = keras.preprocessing.image.img_to_array(img)\n",
        "    image = image / 255.0\n",
        "    image = image.reshape(1,128,128,3)\n",
        "    model = load_model('model_1.h5')\n",
        "    prediction = model.predict(image)\n",
        "    plt.imshow(img)\n",
        "    if(prediction[0] > 0.5):\n",
        "        print(\"predicted: EFUSI\")\n",
        "    else:\n",
        "        print(\"predicted: NORMAL\")\n",
        "   \n",
        "predict_image('/content/drive/MyDrive/Colab Notebooks/Dataset TT/test/nofinding/00003945_011.png')"
      ]
    },
    {
      "cell_type": "markdown",
      "metadata": {
        "id": "urlx4CqKnbUX"
      },
      "source": [
        "**BLANK**\n",
        "---\n",
        "---"
      ]
    },
    {
      "cell_type": "code",
      "execution_count": null,
      "metadata": {
        "colab": {
          "base_uri": "https://localhost:8080/"
        },
        "id": "elpX26OUnlLg",
        "outputId": "09a9716f-fe14-4e67-b06f-ee2479ea28fb"
      },
      "outputs": [
        {
          "name": "stdout",
          "output_type": "stream",
          "text": [
            "Found 200 images belonging to 2 classes.\n",
            "Found 200 images belonging to 2 classes.\n"
          ]
        }
      ],
      "source": [
        "# Performing Image Augmentation to have more data samples\n",
        "img_height, img_width  = 128, 128\n",
        "from keras.preprocessing.image import ImageDataGenerator\n",
        "train_datagen = ImageDataGenerator(\n",
        "    rescale=1. / 255,\n",
        "    shear_range=0.2,\n",
        "    zoom_range=0.2,\n",
        "    horizontal_flip=True)\n",
        "\n",
        "test_datagen = ImageDataGenerator(rescale=1. / 255)\n",
        "\n",
        "train_generator = train_datagen.flow_from_directory(\n",
        "    train_dir,\n",
        "    target_size=(img_width, img_height),\n",
        "    batch_size=16,\n",
        "    class_mode='binary')\n",
        "\n",
        "validation_generator = test_datagen.flow_from_directory(\n",
        "    validation_dir,\n",
        "    target_size=(img_width, img_height),\n",
        "    batch_size=16,\n",
        "    class_mode='binary')"
      ]
    },
    {
      "cell_type": "code",
      "execution_count": null,
      "metadata": {
        "id": "SZsql1JzZVWN"
      },
      "outputs": [],
      "source": [
        "#Display 10 random image\n",
        "import matplotlib.pyplot as plt\n",
        "import numpy as np\n",
        "\n",
        "plt.figure(figsize=(12, 12))\n",
        "for i in range(0, 10):\n",
        "    plt.subplot(2, 5, i+1)\n",
        "    for X_batch, Y_batch in train_generator:\n",
        "        image = X_batch[0]        \n",
        "        dic = {0:'nofinding', 1:'effusion'}\n",
        "        plt.title(dic.get(Y_batch[0]))\n",
        "        plt.axis('off')\n",
        "        plt.imshow(np.squeeze(image),cmap='gray',interpolation='nearest')\n",
        "        break\n",
        "plt.tight_layout()\n",
        "plt.show()"
      ]
    },
    {
      "cell_type": "code",
      "execution_count": null,
      "metadata": {
        "id": "FuHZn10782VE"
      },
      "outputs": [],
      "source": [
        "model = Sequential()\n",
        "model.add(Conv2D(96, kernel_size=(5,5), padding='valid',\n",
        "                     #kernel_initializer=_gabor_filter, \n",
        "                     kernel_initializer=gabor_init,\n",
        "                     bias_initializer='zeros',\n",
        "                     activation='relu', \n",
        "                     input_shape=input_shape))\n",
        "model.add(MaxPooling2D(pool_size=(2, 2)))\n",
        "\n",
        "model.add(Conv2D(32, (3, 3),  activation='relu', padding='valid', input_shape=input_shape))\n",
        "model.add(MaxPooling2D(pool_size=(2, 2)))\n",
        "\n",
        "model.add(Conv2D(64, (3, 3), activation='relu', padding=\"valid\", input_shape=input_shape))\n",
        "model.add(MaxPooling2D(pool_size=(2, 2)))\n",
        "\n",
        "model.add(Flatten())\n",
        "model.add(Dense(64, activation=\"relu\"))\n",
        "model.add(Dropout(0.5))\n",
        "model.add(Dense(1))\n",
        "model.add(Activation('sigmoid'))\n",
        "\n",
        "model.summary()"
      ]
    },
    {
      "cell_type": "code",
      "execution_count": null,
      "metadata": {
        "id": "Sk0rYYk1nlUM"
      },
      "outputs": [],
      "source": [
        "model = models.Sequential()\n",
        "model.add(Conv2D(96, kernel_size=(5, 5), strides=(1, 1),\n",
        "          kernel_initializer=gabor_init,\n",
        "          activation='relu',\n",
        "          input_shape=input_shape))\n",
        "model.add(MaxPooling2D(pool_size=(2, 2), strides=(2, 2)))\n",
        "model.add(Conv2D(64, (5, 5), activation='relu'))\n",
        "model.add(MaxPooling2D(pool_size=(2, 2)))\n",
        "model.add(Flatten())\n",
        "model.add(Dense(1000, activation='relu'))\n",
        "model.add(Dense(1, activation='softmax'))\n",
        "\n",
        "model.summary()"
      ]
    },
    {
      "cell_type": "code",
      "execution_count": null,
      "metadata": {
        "id": "IHUk5ELKcqZ3"
      },
      "outputs": [],
      "source": [
        "#Defining Callback list\n",
        "from keras.callbacks import EarlyStopping, ReduceLROnPlateau\n",
        "early = EarlyStopping(monitor='val_loss', mode='min', patience=3)\n",
        "learning_rate_reduction = ReduceLROnPlateau(monitor='val_loss', patience = 2, verbose=1,factor=0.3, min_lr=0.000001)\n",
        "callbacks_list = [ early, learning_rate_reduction]\n",
        "\n",
        "#Assigning Class Weights\n",
        "from sklearn.utils.class_weight import compute_class_weight\n",
        "train_classes = train_generator.classes\n",
        "#weights = compute_class_weight('balanced', np.unique(train_classes), train_classes)\n",
        "#cw = dict(zip( np.unique(train_generator.classes), weights))\n",
        "#print(cw)\n",
        "\n",
        "class_weights = compute_class_weight(class_weight = \"balanced\",\n",
        "                                     classes = np.unique(train_classes),\n",
        "                                     y = train_classes )\n",
        "class_weights = dict(zip(np.unique(train_classes), class_weights))\n",
        "print(class_weights)\n",
        "\n",
        "history = model.fit(train_generator,\n",
        "                              epochs=25, \n",
        "                              validation_data=validation_generator, \n",
        "                              class_weight=class_weights, \n",
        "                              callbacks=callbacks_list)"
      ]
    }
  ],
  "metadata": {
    "colab": {
      "collapsed_sections": [
        "lfR8mSI3aICw",
        "8dQUy3RLuVCq"
      ],
      "name": "TA Gabor_Conv2D.ipynb",
      "provenance": []
    },
    "kernelspec": {
      "display_name": "Python 3",
      "name": "python3"
    },
    "language_info": {
      "name": "python"
    }
  },
  "nbformat": 4,
  "nbformat_minor": 0
}